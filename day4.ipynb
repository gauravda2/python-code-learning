{
  "nbformat": 4,
  "nbformat_minor": 0,
  "metadata": {
    "colab": {
      "provenance": []
    },
    "kernelspec": {
      "name": "python3",
      "display_name": "Python 3"
    },
    "language_info": {
      "name": "python"
    }
  },
  "cells": [
    {
      "cell_type": "markdown",
      "source": [
        "List"
      ],
      "metadata": {
        "id": "biBerCOUUmSj"
      }
    },
    {
      "cell_type": "markdown",
      "source": [],
      "metadata": {
        "id": "t3zflO9aduhf"
      }
    },
    {
      "cell_type": "code",
      "execution_count": 1,
      "metadata": {
        "id": "-1E5CJ7EUQhq"
      },
      "outputs": [],
      "source": [
        "thislist = [\"apple\", \"banana\", \"cherry\", \"apple\", \"cherry\",\"cat\"]"
      ]
    },
    {
      "cell_type": "code",
      "source": [
        "print(thislist)"
      ],
      "metadata": {
        "colab": {
          "base_uri": "https://localhost:8080/"
        },
        "id": "5n6qJFllUnwq",
        "outputId": "580ea344-737f-436f-d03f-fbc652debb20"
      },
      "execution_count": 2,
      "outputs": [
        {
          "output_type": "stream",
          "name": "stdout",
          "text": [
            "['apple', 'banana', 'cherry', 'apple', 'cherry', 'cat']\n"
          ]
        }
      ]
    },
    {
      "cell_type": "code",
      "source": [
        "thislist[-3]"
      ],
      "metadata": {
        "colab": {
          "base_uri": "https://localhost:8080/",
          "height": 36
        },
        "id": "DS1BH3-Nd8TP",
        "outputId": "b9360d53-31ec-4cec-d728-503aefc376ec"
      },
      "execution_count": 6,
      "outputs": [
        {
          "output_type": "execute_result",
          "data": {
            "text/plain": [
              "'apple'"
            ],
            "application/vnd.google.colaboratory.intrinsic+json": {
              "type": "string"
            }
          },
          "metadata": {},
          "execution_count": 6
        }
      ]
    },
    {
      "cell_type": "code",
      "source": [
        "thislist[:7]"
      ],
      "metadata": {
        "colab": {
          "base_uri": "https://localhost:8080/"
        },
        "id": "zDETS6KzeEgt",
        "outputId": "102832a9-cce7-45e1-ef40-b5cf40d3fc05"
      },
      "execution_count": 7,
      "outputs": [
        {
          "output_type": "execute_result",
          "data": {
            "text/plain": [
              "['apple', 'banana', 'cherry', 'apple', 'cherry', 'cat']"
            ]
          },
          "metadata": {},
          "execution_count": 7
        }
      ]
    },
    {
      "cell_type": "code",
      "source": [
        "len(thislist)"
      ],
      "metadata": {
        "colab": {
          "base_uri": "https://localhost:8080/"
        },
        "id": "_srVABjPfnyD",
        "outputId": "166c5f0b-1b56-4992-e056-9343bdf82efc"
      },
      "execution_count": 8,
      "outputs": [
        {
          "output_type": "execute_result",
          "data": {
            "text/plain": [
              "6"
            ]
          },
          "metadata": {},
          "execution_count": 8
        }
      ]
    },
    {
      "cell_type": "code",
      "source": [
        "type(thislist)"
      ],
      "metadata": {
        "colab": {
          "base_uri": "https://localhost:8080/"
        },
        "id": "_ZXn82Dlfukc",
        "outputId": "ae946827-46ef-4319-c4d6-b002b240e0c9"
      },
      "execution_count": 9,
      "outputs": [
        {
          "output_type": "execute_result",
          "data": {
            "text/plain": [
              "list"
            ]
          },
          "metadata": {},
          "execution_count": 9
        }
      ]
    },
    {
      "cell_type": "code",
      "source": [
        "list1=['apple', 'banana', 'cherry', 'apple', 'cherry', 'cat',[\"dog\",\"cat\"],1]"
      ],
      "metadata": {
        "id": "zjmOYduWf6RT"
      },
      "execution_count": 15,
      "outputs": []
    },
    {
      "cell_type": "code",
      "source": [
        "list1[7]"
      ],
      "metadata": {
        "colab": {
          "base_uri": "https://localhost:8080/"
        },
        "id": "SbtKWeRTgQC-",
        "outputId": "fb647c9a-0032-4eb2-cf6f-4948c726e239"
      },
      "execution_count": 17,
      "outputs": [
        {
          "output_type": "execute_result",
          "data": {
            "text/plain": [
              "1"
            ]
          },
          "metadata": {},
          "execution_count": 17
        }
      ]
    },
    {
      "cell_type": "code",
      "source": [
        "'apple' in list1"
      ],
      "metadata": {
        "colab": {
          "base_uri": "https://localhost:8080/"
        },
        "id": "nscI5cREgcgW",
        "outputId": "cb1b4dcd-a7ce-4483-c6b9-46ee5b6df726"
      },
      "execution_count": 19,
      "outputs": [
        {
          "output_type": "execute_result",
          "data": {
            "text/plain": [
              "False"
            ]
          },
          "metadata": {},
          "execution_count": 19
        }
      ]
    },
    {
      "cell_type": "code",
      "source": [
        "list1[0]=\"alok\""
      ],
      "metadata": {
        "id": "nknD9hGFhcQc"
      },
      "execution_count": 20,
      "outputs": []
    },
    {
      "cell_type": "code",
      "source": [
        "list1"
      ],
      "metadata": {
        "colab": {
          "base_uri": "https://localhost:8080/"
        },
        "id": "xL-H6fEYhyKl",
        "outputId": "a41c5278-a027-4b1b-ccbf-b8392d2877ee"
      },
      "execution_count": 21,
      "outputs": [
        {
          "output_type": "execute_result",
          "data": {
            "text/plain": [
              "['alok', 'banana', 'cherry', 'apple', 'cherry', 'cat', ['dog', 'cat'], 1]"
            ]
          },
          "metadata": {},
          "execution_count": 21
        }
      ]
    },
    {
      "cell_type": "code",
      "source": [
        "list1[4]=\"knd\"\n",
        "list1"
      ],
      "metadata": {
        "colab": {
          "base_uri": "https://localhost:8080/"
        },
        "id": "P9M452Vch83p",
        "outputId": "0ddfcb4b-fe05-4547-fdbc-fa393a399da6"
      },
      "execution_count": 22,
      "outputs": [
        {
          "output_type": "execute_result",
          "data": {
            "text/plain": [
              "['alok', 'banana', 'cherry', 'apple', 'knd', 'cat', ['dog', 'cat'], 1]"
            ]
          },
          "metadata": {},
          "execution_count": 22
        }
      ]
    },
    {
      "cell_type": "code",
      "source": [
        "list1[1:3] = [\"blackcurrant\", \"watermelon\"]\n",
        "list1"
      ],
      "metadata": {
        "colab": {
          "base_uri": "https://localhost:8080/"
        },
        "id": "rhJhVDcaiRMv",
        "outputId": "96276a52-7028-42c4-92e7-9e9f0f7ea1d6"
      },
      "execution_count": 23,
      "outputs": [
        {
          "output_type": "execute_result",
          "data": {
            "text/plain": [
              "['alok',\n",
              " 'blackcurrant',\n",
              " 'watermelon',\n",
              " 'apple',\n",
              " 'knd',\n",
              " 'cat',\n",
              " ['dog', 'cat'],\n",
              " 1]"
            ]
          },
          "metadata": {},
          "execution_count": 23
        }
      ]
    },
    {
      "cell_type": "code",
      "source": [
        "print(list1)"
      ],
      "metadata": {
        "colab": {
          "base_uri": "https://localhost:8080/"
        },
        "id": "ZVg4K7rmihpA",
        "outputId": "097e83f3-af87-4845-d403-70b4f43c39f7"
      },
      "execution_count": 24,
      "outputs": [
        {
          "output_type": "stream",
          "name": "stdout",
          "text": [
            "['alok', 'blackcurrant', 'watermelon', 'apple', 'knd', 'cat', ['dog', 'cat'], 1]\n"
          ]
        }
      ]
    },
    {
      "cell_type": "code",
      "source": [
        "list1.insert(2, \"ankit\")"
      ],
      "metadata": {
        "id": "VInJ2mjhiqAa"
      },
      "execution_count": 25,
      "outputs": []
    },
    {
      "cell_type": "code",
      "source": [
        "list1.insert(1, \"ankita\")"
      ],
      "metadata": {
        "id": "kATouwszjHBe"
      },
      "execution_count": 28,
      "outputs": []
    },
    {
      "cell_type": "code",
      "source": [
        "print(list1)"
      ],
      "metadata": {
        "colab": {
          "base_uri": "https://localhost:8080/"
        },
        "id": "87FGx0-Ii6Dm",
        "outputId": "9b72f015-a0c0-419a-ab24-5f362c5eb885"
      },
      "execution_count": 29,
      "outputs": [
        {
          "output_type": "stream",
          "name": "stdout",
          "text": [
            "['alok', 'ankita', 'blackcurrant', 'ankit', 'watermelon', 'apple', 'knd', 'cat', ['dog', 'cat'], 1]\n"
          ]
        }
      ]
    },
    {
      "cell_type": "code",
      "source": [
        "list1.insert(5, \"Mrs\")\n",
        "list1.insert(7, \"kumari\")"
      ],
      "metadata": {
        "id": "-4RAv8FPi7eG"
      },
      "execution_count": 30,
      "outputs": []
    },
    {
      "cell_type": "code",
      "source": [
        "print(list1)"
      ],
      "metadata": {
        "colab": {
          "base_uri": "https://localhost:8080/"
        },
        "id": "HhJU6rMzkLnk",
        "outputId": "ad1d856f-e602-442d-e135-04053d8ad623"
      },
      "execution_count": 33,
      "outputs": [
        {
          "output_type": "stream",
          "name": "stdout",
          "text": [
            "['alok', 'ankita', 'blackcurrant', 'ankit', 'watermelon', 'Mrs', 'apple', 'kumari', 'knd', 'cat', ['dog', 'cat'], 1]\n"
          ]
        }
      ]
    },
    {
      "cell_type": "code",
      "source": [
        "len(list1)"
      ],
      "metadata": {
        "colab": {
          "base_uri": "https://localhost:8080/"
        },
        "id": "2Vp4q24YkMn-",
        "outputId": "0cf307ff-3ba2-42e7-b9fa-632b80a01b04"
      },
      "execution_count": 34,
      "outputs": [
        {
          "output_type": "execute_result",
          "data": {
            "text/plain": [
              "12"
            ]
          },
          "metadata": {},
          "execution_count": 34
        }
      ]
    },
    {
      "cell_type": "code",
      "source": [
        "list1.insert(-1, \"kumari\")"
      ],
      "metadata": {
        "id": "xBreBnbekuT-"
      },
      "execution_count": 35,
      "outputs": []
    },
    {
      "cell_type": "code",
      "source": [
        "print(list1)"
      ],
      "metadata": {
        "colab": {
          "base_uri": "https://localhost:8080/"
        },
        "id": "NhbvSjALk9fu",
        "outputId": "7b879d32-0afe-4476-e109-6ee3b9bce080"
      },
      "execution_count": 37,
      "outputs": [
        {
          "output_type": "stream",
          "name": "stdout",
          "text": [
            "['alok', 'ankita', 'blackcurrant', 'ankit', 'watermelon', 'Mrs', 'apple', 'kumari', 'knd', 'cat', ['dog', 'cat'], 'kumari', 1]\n"
          ]
        }
      ]
    },
    {
      "cell_type": "code",
      "source": [
        "list1.append(\"prakesh\")"
      ],
      "metadata": {
        "id": "eEDbUmGek_DV"
      },
      "execution_count": 38,
      "outputs": []
    },
    {
      "cell_type": "code",
      "source": [
        "list1"
      ],
      "metadata": {
        "colab": {
          "base_uri": "https://localhost:8080/"
        },
        "id": "pkI0BcfZlQVY",
        "outputId": "c51c8e70-9dc4-4966-cdd4-015838cdb188"
      },
      "execution_count": 39,
      "outputs": [
        {
          "output_type": "execute_result",
          "data": {
            "text/plain": [
              "['alok',\n",
              " 'ankita',\n",
              " 'blackcurrant',\n",
              " 'ankit',\n",
              " 'watermelon',\n",
              " 'Mrs',\n",
              " 'apple',\n",
              " 'kumari',\n",
              " 'knd',\n",
              " 'cat',\n",
              " ['dog', 'cat'],\n",
              " 'kumari',\n",
              " 1,\n",
              " 'prakesh']"
            ]
          },
          "metadata": {},
          "execution_count": 39
        }
      ]
    },
    {
      "cell_type": "code",
      "source": [
        "list1.insert(0, \"kumariii m\")"
      ],
      "metadata": {
        "id": "ZAM4X_XMlRuE"
      },
      "execution_count": 42,
      "outputs": []
    },
    {
      "cell_type": "code",
      "source": [
        "list1"
      ],
      "metadata": {
        "colab": {
          "base_uri": "https://localhost:8080/"
        },
        "id": "5dOCiRy_l5PC",
        "outputId": "630a8ac2-af49-408b-b4f4-6f15768e535f"
      },
      "execution_count": 43,
      "outputs": [
        {
          "output_type": "execute_result",
          "data": {
            "text/plain": [
              "['kumariii m',\n",
              " 'alok',\n",
              " 'ankita',\n",
              " 'blackcurrant',\n",
              " 'ankit',\n",
              " 'watermelon',\n",
              " 'Mrs',\n",
              " 'apple',\n",
              " 'kumari',\n",
              " 'knd',\n",
              " 'cat',\n",
              " ['dog', 'cat'],\n",
              " 'kumari',\n",
              " 1,\n",
              " 'kumariii',\n",
              " 'prakesh']"
            ]
          },
          "metadata": {},
          "execution_count": 43
        }
      ]
    },
    {
      "cell_type": "code",
      "source": [
        "list2=[\"a\",\"b\",\"c\"]\n",
        "list3=[\"d\",\"e\"]"
      ],
      "metadata": {
        "id": "zkxz84A3l6Vu"
      },
      "execution_count": 45,
      "outputs": []
    },
    {
      "cell_type": "code",
      "source": [
        "list2.extend(list3)"
      ],
      "metadata": {
        "id": "0o-pKcgVmlmc"
      },
      "execution_count": 46,
      "outputs": []
    },
    {
      "cell_type": "code",
      "source": [
        "list2.extend([1,3])"
      ],
      "metadata": {
        "id": "p2kiXadJmvtd"
      },
      "execution_count": 49,
      "outputs": []
    },
    {
      "cell_type": "code",
      "source": [
        "list2"
      ],
      "metadata": {
        "colab": {
          "base_uri": "https://localhost:8080/"
        },
        "id": "7oSHBJ1ymx-t",
        "outputId": "f931491d-ae2d-4d3f-d24e-df6c6341c889"
      },
      "execution_count": 50,
      "outputs": [
        {
          "output_type": "execute_result",
          "data": {
            "text/plain": [
              "['a', 'b', 'c', 'd', 'e', 1, 3]"
            ]
          },
          "metadata": {},
          "execution_count": 50
        }
      ]
    },
    {
      "cell_type": "code",
      "source": [
        "list2.remove(\"a\")"
      ],
      "metadata": {
        "id": "C-lyIcavnNev"
      },
      "execution_count": 52,
      "outputs": []
    },
    {
      "cell_type": "code",
      "source": [
        "list2"
      ],
      "metadata": {
        "colab": {
          "base_uri": "https://localhost:8080/"
        },
        "id": "nfIdKb1unl_c",
        "outputId": "16f38438-69d4-4262-e3f0-f7c2d779fb42"
      },
      "execution_count": 53,
      "outputs": [
        {
          "output_type": "execute_result",
          "data": {
            "text/plain": [
              "['b', 'c', 'd', 'e', 1, 3]"
            ]
          },
          "metadata": {},
          "execution_count": 53
        }
      ]
    },
    {
      "cell_type": "code",
      "source": [],
      "metadata": {
        "id": "nY4h7ONCnqTB"
      },
      "execution_count": null,
      "outputs": []
    }
  ]
}
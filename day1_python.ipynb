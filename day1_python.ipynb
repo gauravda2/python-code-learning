{
  "nbformat": 4,
  "nbformat_minor": 0,
  "metadata": {
    "colab": {
      "provenance": []
    },
    "kernelspec": {
      "name": "python3",
      "display_name": "Python 3"
    },
    "language_info": {
      "name": "python"
    }
  },
  "cells": [
    {
      "cell_type": "markdown",
      "source": [
        "First program"
      ],
      "metadata": {
        "id": "n1BqKZwhPal0"
      }
    },
    {
      "cell_type": "markdown",
      "source": [
        "first python code"
      ],
      "metadata": {
        "id": "Vq7EDsDIp39D"
      }
    },
    {
      "cell_type": "code",
      "execution_count": 1,
      "metadata": {
        "colab": {
          "base_uri": "https://localhost:8080/"
        },
        "id": "rVO97jZQOnNj",
        "outputId": "ab9c6d96-8155-4970-c51f-181a34c199be"
      },
      "outputs": [
        {
          "output_type": "stream",
          "name": "stdout",
          "text": [
            "hello\n"
          ]
        }
      ],
      "source": [
        "print('hello')"
      ]
    },
    {
      "cell_type": "code",
      "source": [
        "print(\"welcome to python\")"
      ],
      "metadata": {
        "colab": {
          "base_uri": "https://localhost:8080/"
        },
        "id": "STHkzEdUPwOA",
        "outputId": "806a3901-c4f5-41a1-f79e-bae831c73a67"
      },
      "execution_count": 2,
      "outputs": [
        {
          "output_type": "stream",
          "name": "stdout",
          "text": [
            "welcome to python\n"
          ]
        }
      ]
    },
    {
      "cell_type": "markdown",
      "source": [
        "aithmatic operation"
      ],
      "metadata": {
        "id": "q-DGc6J6qLmW"
      }
    },
    {
      "cell_type": "code",
      "source": [
        "2+5"
      ],
      "metadata": {
        "colab": {
          "base_uri": "https://localhost:8080/"
        },
        "id": "Bn5uLoIRPw8k",
        "outputId": "c3876741-9894-4754-a45b-5203f16b1b4e"
      },
      "execution_count": 3,
      "outputs": [
        {
          "output_type": "execute_result",
          "data": {
            "text/plain": [
              "7"
            ]
          },
          "metadata": {},
          "execution_count": 3
        }
      ]
    },
    {
      "cell_type": "code",
      "source": [
        "2*5"
      ],
      "metadata": {
        "colab": {
          "base_uri": "https://localhost:8080/"
        },
        "id": "WYbd7a4GPZQQ",
        "outputId": "04945d63-2dc3-4650-a1db-b7735083017d"
      },
      "execution_count": 4,
      "outputs": [
        {
          "output_type": "execute_result",
          "data": {
            "text/plain": [
              "10"
            ]
          },
          "metadata": {},
          "execution_count": 4
        }
      ]
    },
    {
      "cell_type": "code",
      "source": [
        "print(\"2+5\")\n",
        "print('2+5')"
      ],
      "metadata": {
        "colab": {
          "base_uri": "https://localhost:8080/"
        },
        "id": "QqCTRwFzPZfY",
        "outputId": "a292705d-eda3-4430-a16e-f8b1fda28346"
      },
      "execution_count": 5,
      "outputs": [
        {
          "output_type": "stream",
          "name": "stdout",
          "text": [
            "2+5\n",
            "2+5\n"
          ]
        }
      ]
    },
    {
      "cell_type": "code",
      "source": [
        "print(2+5)\n",
        "print(2+5)"
      ],
      "metadata": {
        "colab": {
          "base_uri": "https://localhost:8080/"
        },
        "id": "OreL77r6PZuh",
        "outputId": "c9fa9374-65e2-4bd5-fc4b-812abd720112"
      },
      "execution_count": 6,
      "outputs": [
        {
          "output_type": "stream",
          "name": "stdout",
          "text": [
            "7\n",
            "7\n"
          ]
        }
      ]
    },
    {
      "cell_type": "markdown",
      "source": [
        "python comment"
      ],
      "metadata": {
        "id": "tEH_lbvPqRQc"
      }
    },
    {
      "cell_type": "code",
      "source": [
        "#this is comment\n",
        "print(\"this is comment\")"
      ],
      "metadata": {
        "colab": {
          "base_uri": "https://localhost:8080/"
        },
        "id": "gw45bdDQPUlE",
        "outputId": "001c8f3c-2567-4364-94a4-e4845bb32b56"
      },
      "execution_count": 7,
      "outputs": [
        {
          "output_type": "stream",
          "name": "stdout",
          "text": [
            "this is comment\n"
          ]
        }
      ]
    },
    {
      "cell_type": "markdown",
      "source": [
        "multline comment"
      ],
      "metadata": {
        "id": "JTacYtWVqbxg"
      }
    },
    {
      "cell_type": "code",
      "source": [
        "\"\"\"this\n",
        "is multi line\n",
        "code\"\"\"\n",
        "print(\"this is comment\")"
      ],
      "metadata": {
        "colab": {
          "base_uri": "https://localhost:8080/"
        },
        "id": "WJ7mu_W0RBDw",
        "outputId": "e13ba98a-ff2d-4200-9c2d-94edc1c4957a"
      },
      "execution_count": 8,
      "outputs": [
        {
          "output_type": "stream",
          "name": "stdout",
          "text": [
            "this is comment\n"
          ]
        }
      ]
    },
    {
      "cell_type": "markdown",
      "source": [
        "vaiable"
      ],
      "metadata": {
        "id": "D-Q8yHG5qlxU"
      }
    },
    {
      "cell_type": "code",
      "source": [
        "#\n",
        "x=5\n",
        "y=3.2"
      ],
      "metadata": {
        "id": "fV00m7GMUqmg"
      },
      "execution_count": 9,
      "outputs": []
    },
    {
      "cell_type": "code",
      "source": [
        "x,y=5,6\n"
      ],
      "metadata": {
        "id": "SlspfTihbrFs"
      },
      "execution_count": 10,
      "outputs": []
    },
    {
      "cell_type": "code",
      "source": [
        "x"
      ],
      "metadata": {
        "colab": {
          "base_uri": "https://localhost:8080/"
        },
        "id": "olpPuZKmbwBi",
        "outputId": "7beae498-b165-4cab-8d93-af5f9035601d"
      },
      "execution_count": 11,
      "outputs": [
        {
          "output_type": "execute_result",
          "data": {
            "text/plain": [
              "5"
            ]
          },
          "metadata": {},
          "execution_count": 11
        }
      ]
    },
    {
      "cell_type": "code",
      "source": [
        "y"
      ],
      "metadata": {
        "colab": {
          "base_uri": "https://localhost:8080/"
        },
        "id": "VQCythsDbw6v",
        "outputId": "a344e419-f99f-45fa-e8ca-6da0cc4b159f"
      },
      "execution_count": 12,
      "outputs": [
        {
          "output_type": "execute_result",
          "data": {
            "text/plain": [
              "6"
            ]
          },
          "metadata": {},
          "execution_count": 12
        }
      ]
    },
    {
      "cell_type": "code",
      "source": [
        "myvar = \"John\"\n",
        "my_var = \"John\"\n",
        "_my_var = \"John\"\n",
        "myVar = \"John\"\n",
        "MYVAR = \"John\"\n",
        "myvar2 = \"John\"\n",
        "\n",
        "\n",
        "print(myvar)\n",
        "print(my_var)\n",
        "print(_my_var)\n",
        "print(myVar)\n",
        "print(MYVAR)\n",
        "print(myvar2)"
      ],
      "metadata": {
        "colab": {
          "base_uri": "https://localhost:8080/"
        },
        "id": "ztt9TWhTsGuU",
        "outputId": "de9a240d-2640-4943-d32a-f21fc57680d9"
      },
      "execution_count": 13,
      "outputs": [
        {
          "output_type": "stream",
          "name": "stdout",
          "text": [
            "John\n",
            "John\n",
            "John\n",
            "John\n",
            "John\n",
            "John\n"
          ]
        }
      ]
    },
    {
      "cell_type": "code",
      "source": [],
      "metadata": {
        "id": "978iPFfruHSi"
      },
      "execution_count": null,
      "outputs": []
    },
    {
      "cell_type": "markdown",
      "source": [
        "Multi Words Variable Names\n",
        "Variable names with more than one word can be difficult to read.\n",
        "\n",
        "There are several techniques you can use to make them more readable:\n",
        "\n",
        "Camel Case\n",
        "Each word, except the first, starts with a capital letter:\n",
        "\n",
        "myVariableName = \"John\"\n",
        "Pascal Case\n",
        "Each word starts with a capital letter:\n",
        "\n",
        "MyVariableName = \"John\"\n",
        "Snake Case\n",
        "Each word is separated by an underscore character:\n",
        "\n",
        "my_variable_name = \"John\""
      ],
      "metadata": {
        "id": "gnlRfSytuIfu"
      }
    },
    {
      "cell_type": "code",
      "source": [
        "father=60\n",
        "son=20"
      ],
      "metadata": {
        "id": "RKm9d_Nmbzx5"
      },
      "execution_count": 14,
      "outputs": []
    },
    {
      "cell_type": "code",
      "source": [
        "f,s=60,20"
      ],
      "metadata": {
        "id": "3EdQq1O3b5ju"
      },
      "execution_count": 15,
      "outputs": []
    },
    {
      "cell_type": "code",
      "source": [
        "f+s"
      ],
      "metadata": {
        "colab": {
          "base_uri": "https://localhost:8080/"
        },
        "id": "9FX31OURcCwi",
        "outputId": "0afd058b-4210-480e-8dbd-280aa334f810"
      },
      "execution_count": 16,
      "outputs": [
        {
          "output_type": "execute_result",
          "data": {
            "text/plain": [
              "80"
            ]
          },
          "metadata": {},
          "execution_count": 16
        }
      ]
    },
    {
      "cell_type": "code",
      "source": [
        "father"
      ],
      "metadata": {
        "colab": {
          "base_uri": "https://localhost:8080/"
        },
        "id": "cfoQRkG4cERf",
        "outputId": "0ffc9f71-cf50-428b-e123-5cd992cc88e4"
      },
      "execution_count": 17,
      "outputs": [
        {
          "output_type": "execute_result",
          "data": {
            "text/plain": [
              "60"
            ]
          },
          "metadata": {},
          "execution_count": 17
        }
      ]
    },
    {
      "cell_type": "code",
      "source": [
        "print(f+s)"
      ],
      "metadata": {
        "colab": {
          "base_uri": "https://localhost:8080/"
        },
        "id": "nxweuV8LcPKd",
        "outputId": "38845f90-1af5-43bf-f6a3-be02643c2337"
      },
      "execution_count": 18,
      "outputs": [
        {
          "output_type": "stream",
          "name": "stdout",
          "text": [
            "80\n"
          ]
        }
      ]
    },
    {
      "cell_type": "code",
      "source": [
        "x=\"gaurav\"\n",
        "y=\"kumar\"\n",
        "print(x+y)"
      ],
      "metadata": {
        "colab": {
          "base_uri": "https://localhost:8080/"
        },
        "id": "DQzAwTeVdi0W",
        "outputId": "21f21352-5c91-459b-a24b-70f355ab8866"
      },
      "execution_count": 19,
      "outputs": [
        {
          "output_type": "stream",
          "name": "stdout",
          "text": [
            "gauravkumar\n"
          ]
        }
      ]
    },
    {
      "cell_type": "code",
      "source": [
        "print(\"xis>>\",x,\"y is>>\",y)"
      ],
      "metadata": {
        "colab": {
          "base_uri": "https://localhost:8080/"
        },
        "id": "qFTvFQY5d28i",
        "outputId": "6521f745-cb78-47a4-a867-7526f73e8374"
      },
      "execution_count": 20,
      "outputs": [
        {
          "output_type": "stream",
          "name": "stdout",
          "text": [
            "xis>> gaurav y is>> kumar\n"
          ]
        }
      ]
    },
    {
      "cell_type": "code",
      "source": [
        "x1=5\n",
        "y1=\"gaurav\""
      ],
      "metadata": {
        "id": "aQ01reqreKZ2"
      },
      "execution_count": 21,
      "outputs": []
    },
    {
      "cell_type": "code",
      "source": [
        "print(x1+y1)"
      ],
      "metadata": {
        "colab": {
          "base_uri": "https://localhost:8080/",
          "height": 144
        },
        "id": "Id_cypTxerm5",
        "outputId": "0a5a7ff2-01b4-49cd-a54d-a24ffa81471f"
      },
      "execution_count": 22,
      "outputs": [
        {
          "output_type": "error",
          "ename": "TypeError",
          "evalue": "unsupported operand type(s) for +: 'int' and 'str'",
          "traceback": [
            "\u001b[0;31m---------------------------------------------------------------------------\u001b[0m",
            "\u001b[0;31mTypeError\u001b[0m                                 Traceback (most recent call last)",
            "\u001b[0;32m/tmp/ipython-input-4198523439.py\u001b[0m in \u001b[0;36m<cell line: 0>\u001b[0;34m()\u001b[0m\n\u001b[0;32m----> 1\u001b[0;31m \u001b[0mprint\u001b[0m\u001b[0;34m(\u001b[0m\u001b[0mx1\u001b[0m\u001b[0;34m+\u001b[0m\u001b[0my1\u001b[0m\u001b[0;34m)\u001b[0m\u001b[0;34m\u001b[0m\u001b[0;34m\u001b[0m\u001b[0m\n\u001b[0m",
            "\u001b[0;31mTypeError\u001b[0m: unsupported operand type(s) for +: 'int' and 'str'"
          ]
        }
      ]
    },
    {
      "cell_type": "code",
      "source": [
        "x=3.5\n",
        "y=9.1\n",
        "x+y"
      ],
      "metadata": {
        "id": "G3oxABtbe1TU"
      },
      "execution_count": null,
      "outputs": []
    },
    {
      "cell_type": "code",
      "source": [
        "x,y"
      ],
      "metadata": {
        "colab": {
          "base_uri": "https://localhost:8080/"
        },
        "id": "zrPmS1chfPQ3",
        "outputId": "13bd069e-ef68-49f5-a397-24f705709a00"
      },
      "execution_count": 23,
      "outputs": [
        {
          "output_type": "execute_result",
          "data": {
            "text/plain": [
              "('gaurav', 'kumar')"
            ]
          },
          "metadata": {},
          "execution_count": 23
        }
      ]
    },
    {
      "cell_type": "code",
      "source": [
        "x=3.5\n",
        "y=\"rahul\"\n",
        "x+y"
      ],
      "metadata": {
        "colab": {
          "base_uri": "https://localhost:8080/",
          "height": 180
        },
        "id": "m_DyFqe6fRAJ",
        "outputId": "791a668c-e695-418f-bd34-cce13e1afa05"
      },
      "execution_count": 24,
      "outputs": [
        {
          "output_type": "error",
          "ename": "TypeError",
          "evalue": "unsupported operand type(s) for +: 'float' and 'str'",
          "traceback": [
            "\u001b[0;31m---------------------------------------------------------------------------\u001b[0m",
            "\u001b[0;31mTypeError\u001b[0m                                 Traceback (most recent call last)",
            "\u001b[0;32m/tmp/ipython-input-3961743831.py\u001b[0m in \u001b[0;36m<cell line: 0>\u001b[0;34m()\u001b[0m\n\u001b[1;32m      1\u001b[0m \u001b[0mx\u001b[0m\u001b[0;34m=\u001b[0m\u001b[0;36m3.5\u001b[0m\u001b[0;34m\u001b[0m\u001b[0;34m\u001b[0m\u001b[0m\n\u001b[1;32m      2\u001b[0m \u001b[0my\u001b[0m\u001b[0;34m=\u001b[0m\u001b[0;34m\"rahul\"\u001b[0m\u001b[0;34m\u001b[0m\u001b[0;34m\u001b[0m\u001b[0m\n\u001b[0;32m----> 3\u001b[0;31m \u001b[0mx\u001b[0m\u001b[0;34m+\u001b[0m\u001b[0my\u001b[0m\u001b[0;34m\u001b[0m\u001b[0;34m\u001b[0m\u001b[0m\n\u001b[0m",
            "\u001b[0;31mTypeError\u001b[0m: unsupported operand type(s) for +: 'float' and 'str'"
          ]
        }
      ]
    },
    {
      "cell_type": "code",
      "source": [
        "f=7\n",
        "x=8.2\n",
        "f+x"
      ],
      "metadata": {
        "id": "zXFqlpmAfbBd"
      },
      "execution_count": null,
      "outputs": []
    },
    {
      "cell_type": "code",
      "source": [
        "x=input(\"enter your name:\")\n",
        "print(\"output:\",x)"
      ],
      "metadata": {
        "id": "-vuPHtIkfmWk"
      },
      "execution_count": null,
      "outputs": []
    },
    {
      "cell_type": "code",
      "source": [
        "x=input(\"enter your first name:\")\n",
        "y=input(\"enter your last name name:\")\n",
        "print(x+y)"
      ],
      "metadata": {
        "id": "KHb3TakngqkE"
      },
      "execution_count": null,
      "outputs": []
    },
    {
      "cell_type": "code",
      "source": [
        "x, y, z = \"Orange\", \"Banana\", \"Cherry\"\n",
        "print(x)\n",
        "print(y)\n",
        "print(z)"
      ],
      "metadata": {
        "id": "R0OUZbuUh8IP"
      },
      "execution_count": null,
      "outputs": []
    },
    {
      "cell_type": "code",
      "source": [
        "type(x)"
      ],
      "metadata": {
        "id": "bYFbaIBgj_eO"
      },
      "execution_count": null,
      "outputs": []
    },
    {
      "cell_type": "code",
      "source": [],
      "metadata": {
        "id": "FUqqkMW1kE-0"
      },
      "execution_count": null,
      "outputs": []
    },
    {
      "cell_type": "code",
      "source": [
        "t=(8,2) #tuple\n",
        "list1=[5,6] #list\n",
        "dict1={\"name\":\"gaurav\",\"roll no\":13,\"key1\":\"value2\"} #Dictionaries\n",
        "dict1={\"key1\":\"value1\",\"key1\":\"value2\"} #Dictionaries"
      ],
      "metadata": {
        "id": "hYtpfOFelk9X"
      },
      "execution_count": null,
      "outputs": []
    }
  ]
}